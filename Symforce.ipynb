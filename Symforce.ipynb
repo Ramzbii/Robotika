{
 "cells": [
  {
   "cell_type": "code",
   "execution_count": 33,
   "metadata": {},
   "outputs": [
    {
     "name": "stdout",
     "output_type": "stream",
     "text": [
      "Requirement already satisfied: symforce in /usr/local/python/3.10.4/lib/python3.10/site-packages (0.7.0)\n",
      "Requirement already satisfied: clang-format in /usr/local/python/3.10.4/lib/python3.10/site-packages (from symforce) (15.0.4)\n",
      "Requirement already satisfied: skymarshal==0.7.0 in /usr/local/python/3.10.4/lib/python3.10/site-packages (from symforce) (0.7.0)\n",
      "Requirement already satisfied: graphviz in /usr/local/python/3.10.4/lib/python3.10/site-packages (from symforce) (0.20.1)\n",
      "Requirement already satisfied: symforce-sym==0.7.0 in /usr/local/python/3.10.4/lib/python3.10/site-packages (from symforce) (0.7.0)\n",
      "Requirement already satisfied: numpy in /home/codespace/.local/lib/python3.10/site-packages (from symforce) (1.23.5)\n",
      "Requirement already satisfied: jinja2 in /home/codespace/.local/lib/python3.10/site-packages (from symforce) (3.1.2)\n",
      "Requirement already satisfied: scipy in /home/codespace/.local/lib/python3.10/site-packages (from symforce) (1.9.3)\n",
      "Requirement already satisfied: sympy~=1.11.1 in /usr/local/python/3.10.4/lib/python3.10/site-packages (from symforce) (1.11.1)\n",
      "Requirement already satisfied: black in /usr/local/python/3.10.4/lib/python3.10/site-packages (from symforce) (22.10.0)\n",
      "Requirement already satisfied: ply in /usr/local/python/3.10.4/lib/python3.10/site-packages (from skymarshal==0.7.0->symforce) (3.11)\n",
      "Requirement already satisfied: six in /home/codespace/.local/lib/python3.10/site-packages (from skymarshal==0.7.0->symforce) (1.16.0)\n",
      "Requirement already satisfied: argh in /usr/local/python/3.10.4/lib/python3.10/site-packages (from skymarshal==0.7.0->symforce) (0.26.2)\n",
      "Requirement already satisfied: mpmath>=0.19 in /usr/local/python/3.10.4/lib/python3.10/site-packages (from sympy~=1.11.1->symforce) (1.2.1)\n",
      "Requirement already satisfied: pathspec>=0.9.0 in /usr/local/python/3.10.4/lib/python3.10/site-packages (from black->symforce) (0.10.2)\n",
      "Requirement already satisfied: tomli>=1.1.0 in /home/codespace/.local/lib/python3.10/site-packages (from black->symforce) (2.0.1)\n",
      "Requirement already satisfied: click>=8.0.0 in /usr/local/python/3.10.4/lib/python3.10/site-packages (from black->symforce) (8.1.3)\n",
      "Requirement already satisfied: mypy-extensions>=0.4.3 in /usr/local/python/3.10.4/lib/python3.10/site-packages (from black->symforce) (0.4.3)\n",
      "Requirement already satisfied: platformdirs>=2 in /home/codespace/.local/lib/python3.10/site-packages (from black->symforce) (2.5.4)\n",
      "Requirement already satisfied: MarkupSafe>=2.0 in /home/codespace/.local/lib/python3.10/site-packages (from jinja2->symforce) (2.1.1)\n",
      "Note: you may need to restart the kernel to use updated packages.\n"
     ]
    }
   ],
   "source": [
    "pip install symforce"
   ]
  },
  {
   "cell_type": "code",
   "execution_count": 34,
   "metadata": {},
   "outputs": [
    {
     "data": {
      "text/plain": [
       "<Rot3 <Q xyzw=[0, 0, 0, 1]>>"
      ]
     },
     "execution_count": 34,
     "metadata": {},
     "output_type": "execute_result"
    }
   ],
   "source": [
    "import symforce.symbolic as sf\n",
    "sf.Rot3()"
   ]
  },
  {
   "cell_type": "code",
   "execution_count": 35,
   "metadata": {},
   "outputs": [],
   "source": [
    "import symforce.symbolic as sf"
   ]
  },
  {
   "cell_type": "code",
   "execution_count": 36,
   "metadata": {},
   "outputs": [],
   "source": [
    "pose = sf.Pose2(\n",
    "    t=sf.V2.symbolic(\"t\"),\n",
    "    R=sf.Rot2.symbolic(\"R\")\n",
    ")\n",
    "landmark = sf.V2.symbolic(\"L\")"
   ]
  },
  {
   "cell_type": "code",
   "execution_count": 37,
   "metadata": {},
   "outputs": [],
   "source": [
    "landmark_body = pose.inverse() * landmark"
   ]
  },
  {
   "cell_type": "code",
   "execution_count": 38,
   "metadata": {},
   "outputs": [
    {
     "data": {
      "text/plain": [
       "[-L0*R_im + L1*R_re + t0*R_im - t1*R_re, -R_re, -R_im]\n",
       "[-L0*R_re - L1*R_im + t0*R_re + t1*R_im, R_im, -R_re]"
      ]
     },
     "metadata": {},
     "output_type": "display_data"
    }
   ],
   "source": [
    "landmark_body.jacobian(pose)"
   ]
  },
  {
   "cell_type": "code",
   "execution_count": 39,
   "metadata": {},
   "outputs": [
    {
     "data": {
      "text/plain": [
       "atan2(-L0*R_im + L1*R_re - (-t0*R_im + t1*R_re), L0*R_re + L1*R_im - (t0*R_re + t1*R_im))"
      ]
     },
     "execution_count": 39,
     "metadata": {},
     "output_type": "execute_result"
    }
   ],
   "source": [
    "sf.atan2(landmark_body[1], landmark_body[0])"
   ]
  },
  {
   "cell_type": "code",
   "execution_count": 40,
   "metadata": {},
   "outputs": [
    {
     "data": {
      "text/plain": [
       "sqrt(x0**2 + x1**2 + x2**2)"
      ]
     },
     "execution_count": 40,
     "metadata": {},
     "output_type": "execute_result"
    }
   ],
   "source": [
    "sf.V3.symbolic(\"x\").norm(epsilon=sf.epsilon())"
   ]
  },
  {
   "cell_type": "code",
   "execution_count": 41,
   "metadata": {},
   "outputs": [
    {
     "ename": "AlreadyUsedEpsilon",
     "evalue": "Cannot set return value of epsilon after it has already been called.",
     "output_type": "error",
     "traceback": [
      "\u001b[0;31m---------------------------------------------------------------------------\u001b[0m",
      "\u001b[0;31mAlreadyUsedEpsilon\u001b[0m                        Traceback (most recent call last)",
      "Cell \u001b[0;32mIn[41], line 2\u001b[0m\n\u001b[1;32m      1\u001b[0m \u001b[39mimport\u001b[39;00m \u001b[39msymforce\u001b[39;00m\n\u001b[0;32m----> 2\u001b[0m symforce\u001b[39m.\u001b[39;49mset_epsilon_to_symbol()\n",
      "File \u001b[0;32m~/.python/current/lib/python3.10/site-packages/symforce/__init__.py:294\u001b[0m, in \u001b[0;36mset_epsilon_to_symbol\u001b[0;34m(name)\u001b[0m\n\u001b[1;32m    291\u001b[0m \u001b[39melse\u001b[39;00m:\n\u001b[1;32m    292\u001b[0m     \u001b[39mraise\u001b[39;00m InvalidSymbolicApiError(get_symbolic_api())\n\u001b[0;32m--> 294\u001b[0m _set_epsilon(sympy\u001b[39m.\u001b[39;49mSymbol(name))\n",
      "File \u001b[0;32m~/.python/current/lib/python3.10/site-packages/symforce/__init__.py:269\u001b[0m, in \u001b[0;36m_set_epsilon\u001b[0;34m(new_epsilon)\u001b[0m\n\u001b[1;32m    258\u001b[0m \u001b[39m\"\"\"\u001b[39;00m\n\u001b[1;32m    259\u001b[0m \u001b[39mSet the default epsilon for SymForce\u001b[39;00m\n\u001b[1;32m    260\u001b[0m \n\u001b[0;32m   (...)\u001b[0m\n\u001b[1;32m    266\u001b[0m \u001b[39m    new_epsilon: The new default epsilon to use\u001b[39;00m\n\u001b[1;32m    267\u001b[0m \u001b[39m\"\"\"\u001b[39;00m\n\u001b[1;32m    268\u001b[0m \u001b[39mif\u001b[39;00m _have_used_epsilon:\n\u001b[0;32m--> 269\u001b[0m     \u001b[39mraise\u001b[39;00m AlreadyUsedEpsilon(\n\u001b[1;32m    270\u001b[0m         \u001b[39m\"\u001b[39m\u001b[39mCannot set return value of epsilon after it has already been called.\u001b[39m\u001b[39m\"\u001b[39m\n\u001b[1;32m    271\u001b[0m     )\n\u001b[1;32m    273\u001b[0m \u001b[39mglobal\u001b[39;00m _epsilon  \u001b[39m# pylint: disable=global-statement\u001b[39;00m\n\u001b[1;32m    274\u001b[0m _epsilon \u001b[39m=\u001b[39m new_epsilon\n",
      "\u001b[0;31mAlreadyUsedEpsilon\u001b[0m: Cannot set return value of epsilon after it has already been called."
     ]
    }
   ],
   "source": [
    "import symforce\n",
    "symforce.set_epsilon_to_symbol()"
   ]
  },
  {
   "cell_type": "code",
   "execution_count": null,
   "metadata": {},
   "outputs": [],
   "source": [
    "import numpy as np\n",
    "from symforce.values import Values\n",
    "\n",
    "num_poses = 3\n",
    "num_landmarks = 3\n",
    "\n",
    "initial_values = Values(\n",
    "    poses=[sf.Pose2.identity()] * num_poses,\n",
    "    landmarks=[sf.V2(-2, 2), sf.V2(1, -3), sf.V2(5, 2)],\n",
    "    distances=[1.7, 1.4],\n",
    "    angles=np.deg2rad([[145, 335, 55], [185, 310, 70], [215, 310, 70]]).tolist(),\n",
    "    epsilon=sf.numeric_epsilon,\n",
    ")"
   ]
  },
  {
   "cell_type": "code",
   "execution_count": null,
   "metadata": {},
   "outputs": [],
   "source": [
    "def bearing_residual(\n",
    "    pose: sf.Pose2, landmark: sf.V2, angle: sf.Scalar, epsilon: sf.Scalar\n",
    ") -> sf.V1:\n",
    "    t_body = pose.inverse() * landmark\n",
    "    predicted_angle = sf.atan2(t_body[1], t_body[0], epsilon=epsilon)\n",
    "    return sf.V1(sf.wrap_angle(predicted_angle - angle))"
   ]
  },
  {
   "cell_type": "code",
   "execution_count": null,
   "metadata": {},
   "outputs": [],
   "source": [
    "def odometry_residual(\n",
    "    pose_a: sf.Pose2, pose_b: sf.Pose2, dist: sf.Scalar, epsilon: sf.Scalar\n",
    ") -> sf.V1:\n",
    "    return sf.V1((pose_b.t - pose_a.t).norm(epsilon=epsilon) - dist)"
   ]
  },
  {
   "cell_type": "code",
   "execution_count": null,
   "metadata": {},
   "outputs": [
    {
     "name": "stderr",
     "output_type": "stream",
     "text": [
      "codegen.__init__():123 WARNING -- \n",
      "    Generating code with epsilon set to 0 - This is dangerous!  You may get NaNs, Infs,\n",
      "    or numerically unstable results from calling generated functions near singularities.\n",
      "\n",
      "    In order to safely generate code, you should set epsilon to either a symbol\n",
      "    (recommended) or a small numerical value like `sf.numeric_epsilon`.  You should do\n",
      "    this before importing any other code from symforce, e.g. with\n",
      "\n",
      "        import symforce\n",
      "        symforce.set_epsilon_to_symbol()\n",
      "\n",
      "    or\n",
      "\n",
      "        import symforce\n",
      "        symforce.set_epsilon_to_number()\n",
      "\n",
      "    For more information on use of epsilon to prevent singularities, take a look at the\n",
      "    Epsilon Tutorial: https://symforce.org/tutorials/epsilon_tutorial.html\n",
      "\n",
      "codegen.__init__():123 WARNING -- \n",
      "    Generating code with epsilon set to 0 - This is dangerous!  You may get NaNs, Infs,\n",
      "    or numerically unstable results from calling generated functions near singularities.\n",
      "\n",
      "    In order to safely generate code, you should set epsilon to either a symbol\n",
      "    (recommended) or a small numerical value like `sf.numeric_epsilon`.  You should do\n",
      "    this before importing any other code from symforce, e.g. with\n",
      "\n",
      "        import symforce\n",
      "        symforce.set_epsilon_to_symbol()\n",
      "\n",
      "    or\n",
      "\n",
      "        import symforce\n",
      "        symforce.set_epsilon_to_number()\n",
      "\n",
      "    For more information on use of epsilon to prevent singularities, take a look at the\n",
      "    Epsilon Tutorial: https://symforce.org/tutorials/epsilon_tutorial.html\n",
      "\n",
      "codegen.__init__():123 WARNING -- \n",
      "    Generating code with epsilon set to 0 - This is dangerous!  You may get NaNs, Infs,\n",
      "    or numerically unstable results from calling generated functions near singularities.\n",
      "\n",
      "    In order to safely generate code, you should set epsilon to either a symbol\n",
      "    (recommended) or a small numerical value like `sf.numeric_epsilon`.  You should do\n",
      "    this before importing any other code from symforce, e.g. with\n",
      "\n",
      "        import symforce\n",
      "        symforce.set_epsilon_to_symbol()\n",
      "\n",
      "    or\n",
      "\n",
      "        import symforce\n",
      "        symforce.set_epsilon_to_number()\n",
      "\n",
      "    For more information on use of epsilon to prevent singularities, take a look at the\n",
      "    Epsilon Tutorial: https://symforce.org/tutorials/epsilon_tutorial.html\n",
      "\n",
      "codegen.__init__():123 WARNING -- \n",
      "    Generating code with epsilon set to 0 - This is dangerous!  You may get NaNs, Infs,\n",
      "    or numerically unstable results from calling generated functions near singularities.\n",
      "\n",
      "    In order to safely generate code, you should set epsilon to either a symbol\n",
      "    (recommended) or a small numerical value like `sf.numeric_epsilon`.  You should do\n",
      "    this before importing any other code from symforce, e.g. with\n",
      "\n",
      "        import symforce\n",
      "        symforce.set_epsilon_to_symbol()\n",
      "\n",
      "    or\n",
      "\n",
      "        import symforce\n",
      "        symforce.set_epsilon_to_number()\n",
      "\n",
      "    For more information on use of epsilon to prevent singularities, take a look at the\n",
      "    Epsilon Tutorial: https://symforce.org/tutorials/epsilon_tutorial.html\n",
      "\n",
      "codegen.__init__():123 WARNING -- \n",
      "    Generating code with epsilon set to 0 - This is dangerous!  You may get NaNs, Infs,\n",
      "    or numerically unstable results from calling generated functions near singularities.\n",
      "\n",
      "    In order to safely generate code, you should set epsilon to either a symbol\n",
      "    (recommended) or a small numerical value like `sf.numeric_epsilon`.  You should do\n",
      "    this before importing any other code from symforce, e.g. with\n",
      "\n",
      "        import symforce\n",
      "        symforce.set_epsilon_to_symbol()\n",
      "\n",
      "    or\n",
      "\n",
      "        import symforce\n",
      "        symforce.set_epsilon_to_number()\n",
      "\n",
      "    For more information on use of epsilon to prevent singularities, take a look at the\n",
      "    Epsilon Tutorial: https://symforce.org/tutorials/epsilon_tutorial.html\n",
      "\n",
      "codegen.__init__():123 WARNING -- \n",
      "    Generating code with epsilon set to 0 - This is dangerous!  You may get NaNs, Infs,\n",
      "    or numerically unstable results from calling generated functions near singularities.\n",
      "\n",
      "    In order to safely generate code, you should set epsilon to either a symbol\n",
      "    (recommended) or a small numerical value like `sf.numeric_epsilon`.  You should do\n",
      "    this before importing any other code from symforce, e.g. with\n",
      "\n",
      "        import symforce\n",
      "        symforce.set_epsilon_to_symbol()\n",
      "\n",
      "    or\n",
      "\n",
      "        import symforce\n",
      "        symforce.set_epsilon_to_number()\n",
      "\n",
      "    For more information on use of epsilon to prevent singularities, take a look at the\n",
      "    Epsilon Tutorial: https://symforce.org/tutorials/epsilon_tutorial.html\n",
      "\n",
      "codegen.__init__():123 WARNING -- \n",
      "    Generating code with epsilon set to 0 - This is dangerous!  You may get NaNs, Infs,\n",
      "    or numerically unstable results from calling generated functions near singularities.\n",
      "\n",
      "    In order to safely generate code, you should set epsilon to either a symbol\n",
      "    (recommended) or a small numerical value like `sf.numeric_epsilon`.  You should do\n",
      "    this before importing any other code from symforce, e.g. with\n",
      "\n",
      "        import symforce\n",
      "        symforce.set_epsilon_to_symbol()\n",
      "\n",
      "    or\n",
      "\n",
      "        import symforce\n",
      "        symforce.set_epsilon_to_number()\n",
      "\n",
      "    For more information on use of epsilon to prevent singularities, take a look at the\n",
      "    Epsilon Tutorial: https://symforce.org/tutorials/epsilon_tutorial.html\n",
      "\n",
      "codegen.__init__():123 WARNING -- \n",
      "    Generating code with epsilon set to 0 - This is dangerous!  You may get NaNs, Infs,\n",
      "    or numerically unstable results from calling generated functions near singularities.\n",
      "\n",
      "    In order to safely generate code, you should set epsilon to either a symbol\n",
      "    (recommended) or a small numerical value like `sf.numeric_epsilon`.  You should do\n",
      "    this before importing any other code from symforce, e.g. with\n",
      "\n",
      "        import symforce\n",
      "        symforce.set_epsilon_to_symbol()\n",
      "\n",
      "    or\n",
      "\n",
      "        import symforce\n",
      "        symforce.set_epsilon_to_number()\n",
      "\n",
      "    For more information on use of epsilon to prevent singularities, take a look at the\n",
      "    Epsilon Tutorial: https://symforce.org/tutorials/epsilon_tutorial.html\n",
      "\n",
      "codegen.__init__():123 WARNING -- \n",
      "    Generating code with epsilon set to 0 - This is dangerous!  You may get NaNs, Infs,\n",
      "    or numerically unstable results from calling generated functions near singularities.\n",
      "\n",
      "    In order to safely generate code, you should set epsilon to either a symbol\n",
      "    (recommended) or a small numerical value like `sf.numeric_epsilon`.  You should do\n",
      "    this before importing any other code from symforce, e.g. with\n",
      "\n",
      "        import symforce\n",
      "        symforce.set_epsilon_to_symbol()\n",
      "\n",
      "    or\n",
      "\n",
      "        import symforce\n",
      "        symforce.set_epsilon_to_number()\n",
      "\n",
      "    For more information on use of epsilon to prevent singularities, take a look at the\n",
      "    Epsilon Tutorial: https://symforce.org/tutorials/epsilon_tutorial.html\n",
      "\n",
      "codegen.__init__():123 WARNING -- \n",
      "    Generating code with epsilon set to 0 - This is dangerous!  You may get NaNs, Infs,\n",
      "    or numerically unstable results from calling generated functions near singularities.\n",
      "\n",
      "    In order to safely generate code, you should set epsilon to either a symbol\n",
      "    (recommended) or a small numerical value like `sf.numeric_epsilon`.  You should do\n",
      "    this before importing any other code from symforce, e.g. with\n",
      "\n",
      "        import symforce\n",
      "        symforce.set_epsilon_to_symbol()\n",
      "\n",
      "    or\n",
      "\n",
      "        import symforce\n",
      "        symforce.set_epsilon_to_number()\n",
      "\n",
      "    For more information on use of epsilon to prevent singularities, take a look at the\n",
      "    Epsilon Tutorial: https://symforce.org/tutorials/epsilon_tutorial.html\n",
      "\n",
      "codegen.__init__():123 WARNING -- \n",
      "    Generating code with epsilon set to 0 - This is dangerous!  You may get NaNs, Infs,\n",
      "    or numerically unstable results from calling generated functions near singularities.\n",
      "\n",
      "    In order to safely generate code, you should set epsilon to either a symbol\n",
      "    (recommended) or a small numerical value like `sf.numeric_epsilon`.  You should do\n",
      "    this before importing any other code from symforce, e.g. with\n",
      "\n",
      "        import symforce\n",
      "        symforce.set_epsilon_to_symbol()\n",
      "\n",
      "    or\n",
      "\n",
      "        import symforce\n",
      "        symforce.set_epsilon_to_number()\n",
      "\n",
      "    For more information on use of epsilon to prevent singularities, take a look at the\n",
      "    Epsilon Tutorial: https://symforce.org/tutorials/epsilon_tutorial.html\n",
      "\n"
     ]
    }
   ],
   "source": [
    "from symforce.opt.factor import Factor\n",
    "\n",
    "factors = []\n",
    "\n",
    "# Bearing factors\n",
    "for i in range(num_poses):\n",
    "    for j in range(num_landmarks):\n",
    "        factors.append(Factor(\n",
    "            residual=bearing_residual,\n",
    "            keys=[f\"poses[{i}]\", f\"landmarks[{j}]\", f\"angles[{i}][{j}]\", \"epsilon\"],\n",
    "        ))\n",
    "\n",
    "# Odometry factors\n",
    "for i in range(num_poses - 1):\n",
    "    factors.append(Factor(\n",
    "        residual=odometry_residual,\n",
    "        keys=[f\"poses[{i}]\", f\"poses[{i + 1}]\", f\"distances[{i}]\", \"epsilon\"],\n",
    "    ))"
   ]
  },
  {
   "cell_type": "code",
   "execution_count": null,
   "metadata": {},
   "outputs": [
    {
     "name": "stderr",
     "output_type": "stream",
     "text": [
      "codegen.__init__():123 WARNING -- \n",
      "    Generating code with epsilon set to 0 - This is dangerous!  You may get NaNs, Infs,\n",
      "    or numerically unstable results from calling generated functions near singularities.\n",
      "\n",
      "    In order to safely generate code, you should set epsilon to either a symbol\n",
      "    (recommended) or a small numerical value like `sf.numeric_epsilon`.  You should do\n",
      "    this before importing any other code from symforce, e.g. with\n",
      "\n",
      "        import symforce\n",
      "        symforce.set_epsilon_to_symbol()\n",
      "\n",
      "    or\n",
      "\n",
      "        import symforce\n",
      "        symforce.set_epsilon_to_number()\n",
      "\n",
      "    For more information on use of epsilon to prevent singularities, take a look at the\n",
      "    Epsilon Tutorial: https://symforce.org/tutorials/epsilon_tutorial.html\n",
      "\n",
      "codegen.__init__():123 WARNING -- \n",
      "    Generating code with epsilon set to 0 - This is dangerous!  You may get NaNs, Infs,\n",
      "    or numerically unstable results from calling generated functions near singularities.\n",
      "\n",
      "    In order to safely generate code, you should set epsilon to either a symbol\n",
      "    (recommended) or a small numerical value like `sf.numeric_epsilon`.  You should do\n",
      "    this before importing any other code from symforce, e.g. with\n",
      "\n",
      "        import symforce\n",
      "        symforce.set_epsilon_to_symbol()\n",
      "\n",
      "    or\n",
      "\n",
      "        import symforce\n",
      "        symforce.set_epsilon_to_number()\n",
      "\n",
      "    For more information on use of epsilon to prevent singularities, take a look at the\n",
      "    Epsilon Tutorial: https://symforce.org/tutorials/epsilon_tutorial.html\n",
      "\n"
     ]
    }
   ],
   "source": [
    "from symforce.opt.optimizer import Optimizer\n",
    "\n",
    "optimizer = Optimizer(\n",
    "    factors=factors,\n",
    "    optimized_keys=[f\"poses[{i}]\" for i in range(num_poses)],\n",
    "    # So that we save more information about each iteration, to visualize later:\n",
    "    debug_stats=True,\n",
    ")"
   ]
  },
  {
   "cell_type": "code",
   "execution_count": null,
   "metadata": {},
   "outputs": [
    {
     "name": "stdout",
     "output_type": "stream",
     "text": [
      "[2022-12-03 09:07:16.256] [info] LM<sym::Optimize> [iter    0] lambda: 1.000e+00, error prev/linear/new: 5.143/2.872/2.203, rel reduction: 0.57166\n",
      "[2022-12-03 09:07:16.257] [info] LM<sym::Optimize> [iter    1] lambda: 2.500e-01, error prev/linear/new: 2.203/0.087/0.074, rel reduction: 0.96655\n",
      "[2022-12-03 09:07:16.257] [info] LM<sym::Optimize> [iter    2] lambda: 6.250e-02, error prev/linear/new: 0.074/0.006/0.006, rel reduction: 0.91401\n",
      "[2022-12-03 09:07:16.258] [info] LM<sym::Optimize> [iter    3] lambda: 1.562e-02, error prev/linear/new: 0.006/0.001/0.001, rel reduction: 0.90323\n",
      "[2022-12-03 09:07:16.261] [info] LM<sym::Optimize> [iter    4] lambda: 3.906e-03, error prev/linear/new: 0.001/0.000/0.000, rel reduction: 0.60930\n",
      "[2022-12-03 09:07:16.261] [info] LM<sym::Optimize> [iter    5] lambda: 9.766e-04, error prev/linear/new: 0.000/0.000/0.000, rel reduction: 0.08144\n",
      "[2022-12-03 09:07:16.262] [info] LM<sym::Optimize> [iter    6] lambda: 2.441e-04, error prev/linear/new: 0.000/0.000/0.000, rel reduction: 0.00012\n",
      "[2022-12-03 09:07:16.263] [info] LM<sym::Optimize> [iter    7] lambda: 6.104e-05, error prev/linear/new: 0.000/0.000/0.000, rel reduction: 0.00000\n"
     ]
    }
   ],
   "source": [
    "result = optimizer.optimize(initial_values)"
   ]
  },
  {
   "cell_type": "code",
   "execution_count": null,
   "metadata": {},
   "outputs": [
    {
     "data": {
      "image/png": "[encoded data removed]",
      "text/plain": [
       "<Figure size 640x480 with 2 Axes>"
      ]
     },
     "metadata": {},
     "output_type": "display_data"
    }
   ],
   "source": [
    "from symforce.examples.robot_2d_localization.plotting import plot_solution\n",
    "plot_solution(optimizer, result)"
   ]
  },
  {
   "cell_type": "code",
   "execution_count": null,
   "metadata": {},
   "outputs": [
    {
     "data": {
      "text/plain": [
       "<Pose3 R=<Rot3 <Q xyzw=[0, 0, 0, 1]>>, t=(0, 0, 0)>"
      ]
     },
     "execution_count": 20,
     "metadata": {},
     "output_type": "execute_result"
    }
   ],
   "source": [
    "sf.Pose3.identity()"
   ]
  },
  {
   "cell_type": "code",
   "execution_count": null,
   "metadata": {},
   "outputs": [
    {
     "data": {
      "text/plain": [
       "<Pose3 [0, 0, 0, 1, 0, 0, 0]>"
      ]
     },
     "execution_count": 21,
     "metadata": {},
     "output_type": "execute_result"
    }
   ],
   "source": [
    "import sym\n",
    "sym.Pose3.identity()"
   ]
  },
  {
   "cell_type": "code",
   "execution_count": null,
   "metadata": {},
   "outputs": [
    {
     "ename": "SyntaxError",
     "evalue": "invalid syntax (2944227102.py, line 1)",
     "output_type": "error",
     "traceback": [
      "\u001b[0;36m  Cell \u001b[0;32mIn[30], line 1\u001b[0;36m\u001b[0m\n\u001b[0;31m    sym:Pose3<double>:Identity()\u001b[0m\n\u001b[0m                     ^\u001b[0m\n\u001b[0;31mSyntaxError\u001b[0m\u001b[0;31m:\u001b[0m invalid syntax\n"
     ]
    }
   ],
   "source": [
    "sym::Pose3<double>::Identity()"
   ]
  },
  {
   "cell_type": "code",
   "execution_count": null,
   "metadata": {},
   "outputs": [
    {
     "name": "stderr",
     "output_type": "stream",
     "text": [
      "codegen.__init__():123 WARNING -- \n",
      "    Generating code with epsilon set to 0 - This is dangerous!  You may get NaNs, Infs,\n",
      "    or numerically unstable results from calling generated functions near singularities.\n",
      "\n",
      "    In order to safely generate code, you should set epsilon to either a symbol\n",
      "    (recommended) or a small numerical value like `sf.numeric_epsilon`.  You should do\n",
      "    this before importing any other code from symforce, e.g. with\n",
      "\n",
      "        import symforce\n",
      "        symforce.set_epsilon_to_symbol()\n",
      "\n",
      "    or\n",
      "\n",
      "        import symforce\n",
      "        symforce.set_epsilon_to_number()\n",
      "\n",
      "    For more information on use of epsilon to prevent singularities, take a look at the\n",
      "    Epsilon Tutorial: https://symforce.org/tutorials/epsilon_tutorial.html\n",
      "\n"
     ]
    }
   ],
   "source": [
    "from symforce.codegen import Codegen, CppConfig\n",
    "\n",
    "codegen = Codegen.function(bearing_residual, config=CppConfig())"
   ]
  },
  {
   "cell_type": "code",
   "execution_count": null,
   "metadata": {},
   "outputs": [],
   "source": []
  },
  {
   "cell_type": "code",
   "execution_count": null,
   "metadata": {},
   "outputs": [
    {
     "name": "stderr",
     "output_type": "stream",
     "text": [
      "codegen.__init__():123 WARNING -- \n",
      "    Generating code with epsilon set to 0 - This is dangerous!  You may get NaNs, Infs,\n",
      "    or numerically unstable results from calling generated functions near singularities.\n",
      "\n",
      "    In order to safely generate code, you should set epsilon to either a symbol\n",
      "    (recommended) or a small numerical value like `sf.numeric_epsilon`.  You should do\n",
      "    this before importing any other code from symforce, e.g. with\n",
      "\n",
      "        import symforce\n",
      "        symforce.set_epsilon_to_symbol()\n",
      "\n",
      "    or\n",
      "\n",
      "        import symforce\n",
      "        symforce.set_epsilon_to_number()\n",
      "\n",
      "    For more information on use of epsilon to prevent singularities, take a look at the\n",
      "    Epsilon Tutorial: https://symforce.org/tutorials/epsilon_tutorial.html\n",
      "\n"
     ]
    }
   ],
   "source": [
    "codegen_linearization = codegen.with_linearization(\n",
    "    which_args=[\"pose\"]\n",
    ")"
   ]
  },
  {
   "cell_type": "code",
   "execution_count": null,
   "metadata": {},
   "outputs": [
    {
     "name": "stdout",
     "output_type": "stream",
     "text": [
      "// -----------------------------------------------------------------------------\n",
      "// This file was autogenerated by symforce from template:\n",
      "//     function/FUNCTION.h.jinja\n",
      "// Do NOT modify by hand.\n",
      "// -----------------------------------------------------------------------------\n",
      "\n",
      "#pragma once\n",
      "\n",
      "#include <Eigen/Dense>\n",
      "\n",
      "#include <sym/pose2.h>\n",
      "\n",
      "namespace sym {\n",
      "\n",
      "/**\n",
      " * This function was autogenerated from a symbolic function. Do not modify by hand.\n",
      " *\n",
      " * Symbolic function: bearing_residual\n",
      " *\n",
      " * Args:\n",
      " *     pose: Pose2\n",
      " *     landmark: Matrix21\n",
      " *     angle: Scalar\n",
      " *     epsilon: Scalar\n",
      " *\n",
      " * Outputs:\n",
      " *     res: Matrix11\n",
      " *     jacobian: (1x3) jacobian of res wrt arg pose (3)\n",
      " *     hessian: (3x3) Gauss-Newton hessian for arg pose (3)\n",
      " *     rhs: (3x1) Gauss-Newton rhs for arg pose (3)\n",
      " */\n",
      "template <typename Scalar>\n",
      "void BearingFactor(const sym::Pose2<Scalar>& pose, const Eigen::Matrix<Scalar, 2, 1>& landmark,\n",
      "                   const Scalar angle, const Scalar epsilon,\n",
      "                   Eigen::Matrix<Scalar, 1, 1>* const res = nullptr,\n",
      "                   Eigen::Matrix<Scalar, 1, 3>* const jacobian = nullptr,\n",
      "                   Eigen::Matrix<Scalar, 3, 3>* const hessian = nullptr,\n",
      "                   Eigen::Matrix<Scalar, 3, 1>* const rhs = nullptr) {\n",
      "  // Total ops: 66\n",
      "\n",
      "  // Input arrays\n",
      "  const Eigen::Matrix<Scalar, 4, 1>& _pose = pose.Data();\n",
      "\n",
      "  // Intermediate terms (24)\n",
      "  const Scalar _tmp0 = _pose[1] * _pose[2];\n",
      "  const Scalar _tmp1 = _pose[0] * _pose[3];\n",
      "  const Scalar _tmp2 = _pose[0] * landmark(1, 0) - _pose[1] * landmark(0, 0);\n",
      "  const Scalar _tmp3 = _tmp0 - _tmp1 + _tmp2;\n",
      "  const Scalar _tmp4 = _pose[0] * _pose[2] + _pose[1] * _pose[3];\n",
      "  const Scalar _tmp5 = _pose[1] * landmark(1, 0);\n",
      "  const Scalar _tmp6 = _pose[0] * landmark(0, 0);\n",
      "  const Scalar _tmp7 = -_tmp4 + _tmp5 + _tmp6;\n",
      "  const Scalar _tmp8 = _tmp7 + epsilon * ((((_tmp7) > 0) - ((_tmp7) < 0)) + Scalar(0.5));\n",
      "  const Scalar _tmp9 = -angle + std::atan2(_tmp3, _tmp8);\n",
      "  const Scalar _tmp10 =\n",
      "      _tmp9 - 2 * Scalar(M_PI) *\n",
      "                  std::floor((Scalar(1) / Scalar(2)) * (_tmp9 + Scalar(M_PI)) / Scalar(M_PI));\n",
      "  const Scalar _tmp11 = Scalar(1.0) / (_tmp8);\n",
      "  const Scalar _tmp12 = std::pow(_tmp8, Scalar(2));\n",
      "  const Scalar _tmp13 = _tmp3 / _tmp12;\n",
      "  const Scalar _tmp14 = _tmp11 * (_tmp4 - _tmp5 - _tmp6) - _tmp13 * (_tmp0 - _tmp1 + _tmp2);\n",
      "  const Scalar _tmp15 = _tmp12 + std::pow(_tmp3, Scalar(2));\n",
      "  const Scalar _tmp16 = _tmp12 / _tmp15;\n",
      "  const Scalar _tmp17 = _tmp14 * _tmp16;\n",
      "  const Scalar _tmp18 = _pose[0] * _tmp13 + _pose[1] * _tmp11;\n",
      "  const Scalar _tmp19 = _tmp16 * _tmp18;\n",
      "  const Scalar _tmp20 = -_pose[0] * _tmp11 + _pose[1] * _tmp13;\n",
      "  const Scalar _tmp21 = _tmp16 * _tmp20;\n",
      "  const Scalar _tmp22 = std::pow(_tmp8, Scalar(4)) / std::pow(_tmp15, Scalar(2));\n",
      "  const Scalar _tmp23 = _tmp18 * _tmp22;\n",
      "\n",
      "  // Output terms (4)\n",
      "  if (res != nullptr) {\n",
      "    Eigen::Matrix<Scalar, 1, 1>& _res = (*res);\n",
      "\n",
      "    _res(0, 0) = _tmp10;\n",
      "  }\n",
      "\n",
      "  if (jacobian != nullptr) {\n",
      "    Eigen::Matrix<Scalar, 1, 3>& _jacobian = (*jacobian);\n",
      "\n",
      "    _jacobian(0, 0) = _tmp17;\n",
      "    _jacobian(0, 1) = _tmp19;\n",
      "    _jacobian(0, 2) = _tmp21;\n",
      "  }\n",
      "\n",
      "  if (hessian != nullptr) {\n",
      "    Eigen::Matrix<Scalar, 3, 3>& _hessian = (*hessian);\n",
      "\n",
      "    _hessian(0, 0) = std::pow(_tmp14, Scalar(2)) * _tmp22;\n",
      "    _hessian(1, 0) = _tmp14 * _tmp23;\n",
      "    _hessian(2, 0) = _tmp14 * _tmp20 * _tmp22;\n",
      "    _hessian(0, 1) = 0;\n",
      "    _hessian(1, 1) = std::pow(_tmp18, Scalar(2)) * _tmp22;\n",
      "    _hessian(2, 1) = _tmp20 * _tmp23;\n",
      "    _hessian(0, 2) = 0;\n",
      "    _hessian(1, 2) = 0;\n",
      "    _hessian(2, 2) = std::pow(_tmp20, Scalar(2)) * _tmp22;\n",
      "  }\n",
      "\n",
      "  if (rhs != nullptr) {\n",
      "    Eigen::Matrix<Scalar, 3, 1>& _rhs = (*rhs);\n",
      "\n",
      "    _rhs(0, 0) = _tmp10 * _tmp17;\n",
      "    _rhs(1, 0) = _tmp10 * _tmp19;\n",
      "    _rhs(2, 0) = _tmp10 * _tmp21;\n",
      "  }\n",
      "}  // NOLINT(readability/fn_size)\n",
      "\n",
      "// NOLINTNEXTLINE(readability/fn_size)\n",
      "}  // namespace sym\n",
      "\n"
     ]
    }
   ],
   "source": [
    "metadata = codegen_linearization.generate_function()\n",
    "print(open(metadata.generated_files[0]).read())"
   ]
  },
  {
   "cell_type": "code",
   "execution_count": null,
   "metadata": {},
   "outputs": [
    {
     "name": "stderr",
     "output_type": "stream",
     "text": [
      "--2022-12-03 09:13:23--  https://raw.githubusercontent.com/symforce-org/symforce/main/gen/cpp/sym/pose2.h\n",
      "Resolving raw.githubusercontent.com (raw.githubusercontent.com)... 185.199.109.133, 185.199.110.133, 185.199.111.133, ...\n",
      "Connecting to raw.githubusercontent.com (raw.githubusercontent.com)|185.199.109.133|:443... connected.\n",
      "HTTP request sent, awaiting response... 200 OK\n",
      "Length: 8015 (7.8K) [text/plain]\n",
      "Saving to: ‘./sym/pose2.h’\n",
      "\n",
      "     0K .......                                               100% 16.5M=0s\n",
      "\n",
      "2022-12-03 09:13:24 (16.5 MB/s) - ‘./sym/pose2.h’ saved [8015/8015]\n",
      "\n"
     ]
    }
   ],
   "source": [
    "%%bash\n",
    "wget https://raw.githubusercontent.com/symforce-org/symforce/main/gen/cpp/sym/pose2.h -P ./sym"
   ]
  }
 ],
 "metadata": {
  "kernelspec": {
   "display_name": "Python 3.10.4 64-bit",
   "language": "python",
   "name": "python3"
  },
  "language_info": {
   "codemirror_mode": {
    "name": "ipython",
    "version": 3
   },
   "file_extension": ".py",
   "mimetype": "text/x-python",
   "name": "python",
   "nbconvert_exporter": "python",
   "pygments_lexer": "ipython3",
   "version": "3.10.4"
  },
  "orig_nbformat": 4,
  "vscode": {
   "interpreter": {
    "hash": "3ad933181bd8a04b432d3370b9dc3b0662ad032c4dfaa4e4f1596c548f763858"
   }
  }
 },
 "nbformat": 4,
 "nbformat_minor": 2
}
